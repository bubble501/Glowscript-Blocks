{
 "cells": [
  {
   "cell_type": "code",
   "execution_count": 32,
   "metadata": {
    "collapsed": false
   },
   "outputs": [],
   "source": [
    "\n",
    "import numpy as np\n",
    "import numpy.random\n",
    "import matplotlib.pyplot as plt\n",
    "\n",
    "def f(x, y):\n",
    "  return x*y - x\n",
    "\n",
    "xmax = ymax = 2.0\n",
    "xmin = ymin = -2.0\n",
    "z = numpy.array([[f(x, y) for x in np.arange(xmin,xmax, .5)] for y in np.arange(ymin, ymax, .5)])\n",
    "\n"
   ]
  },
  {
   "cell_type": "code",
   "execution_count": 33,
   "metadata": {
    "collapsed": false
   },
   "outputs": [
    {
     "data": {
      "text/plain": [
       "array([[ 6.  ,  4.5 ,  3.  ,  1.5 , -0.  , -1.5 , -3.  , -4.5 ],\n",
       "       [ 5.  ,  3.75,  2.5 ,  1.25, -0.  , -1.25, -2.5 , -3.75],\n",
       "       [ 4.  ,  3.  ,  2.  ,  1.  , -0.  , -1.  , -2.  , -3.  ],\n",
       "       [ 3.  ,  2.25,  1.5 ,  0.75, -0.  , -0.75, -1.5 , -2.25],\n",
       "       [ 2.  ,  1.5 ,  1.  ,  0.5 ,  0.  , -0.5 , -1.  , -1.5 ],\n",
       "       [ 1.  ,  0.75,  0.5 ,  0.25,  0.  , -0.25, -0.5 , -0.75],\n",
       "       [ 0.  ,  0.  ,  0.  ,  0.  ,  0.  ,  0.  ,  0.  ,  0.  ],\n",
       "       [-1.  , -0.75, -0.5 , -0.25,  0.  ,  0.25,  0.5 ,  0.75]])"
      ]
     },
     "execution_count": 33,
     "metadata": {},
     "output_type": "execute_result"
    }
   ],
   "source": [
    "z"
   ]
  },
  {
   "cell_type": "code",
   "execution_count": 34,
   "metadata": {
    "collapsed": true
   },
   "outputs": [],
   "source": [
    "plt.pcolormesh(z)\n",
    "plt.colorbar()\n",
    "curves = 10\n",
    "m_0 = max([max(row) for row in z])\n",
    "m_1 = min([min(row) for row in z])\n"
   ]
  },
  {
   "cell_type": "code",
   "execution_count": 35,
   "metadata": {
    "collapsed": false
   },
   "outputs": [
    {
     "name": "stdout",
     "output_type": "stream",
     "text": [
      "6.0\n",
      "-4.5\n"
     ]
    }
   ],
   "source": [
    "print(m_0)\n",
    "print(m_1)"
   ]
  },
  {
   "cell_type": "code",
   "execution_count": 36,
   "metadata": {
    "collapsed": true
   },
   "outputs": [],
   "source": [
    "levels = numpy.arange(m_1, m_0, (1 / float(curves)) * m)\n"
   ]
  },
  {
   "cell_type": "code",
   "execution_count": 37,
   "metadata": {
    "collapsed": false
   },
   "outputs": [
    {
     "data": {
      "text/plain": [
       "array([-4.5, -3.9, -3.3, -2.7, -2.1, -1.5, -0.9, -0.3,  0.3,  0.9,  1.5,\n",
       "        2.1,  2.7,  3.3,  3.9,  4.5,  5.1,  5.7])"
      ]
     },
     "execution_count": 37,
     "metadata": {},
     "output_type": "execute_result"
    }
   ],
   "source": [
    "levels"
   ]
  },
  {
   "cell_type": "code",
   "execution_count": null,
   "metadata": {
    "collapsed": true
   },
   "outputs": [],
   "source": [
    "plt.contour(z, colors=\"white\", levels=levels)\n",
    "plt.show()"
   ]
  },
  {
   "cell_type": "code",
   "execution_count": null,
   "metadata": {
    "collapsed": true
   },
   "outputs": [],
   "source": []
  },
  {
   "cell_type": "code",
   "execution_count": null,
   "metadata": {
    "collapsed": true
   },
   "outputs": [],
   "source": []
  },
  {
   "cell_type": "code",
   "execution_count": null,
   "metadata": {
    "collapsed": true
   },
   "outputs": [],
   "source": []
  },
  {
   "cell_type": "code",
   "execution_count": null,
   "metadata": {
    "collapsed": true
   },
   "outputs": [],
   "source": []
  }
 ],
 "metadata": {
  "kernelspec": {
   "display_name": "Python 2",
   "language": "python",
   "name": "python2"
  },
  "language_info": {
   "codemirror_mode": {
    "name": "ipython",
    "version": 2
   },
   "file_extension": ".py",
   "mimetype": "text/x-python",
   "name": "python",
   "nbconvert_exporter": "python",
   "pygments_lexer": "ipython2",
   "version": "2.7.9"
  }
 },
 "nbformat": 4,
 "nbformat_minor": 0
}
